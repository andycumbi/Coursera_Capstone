{
 "cells": [
  {
   "cell_type": "markdown",
   "metadata": {},
   "source": [
    "# INTRODUCTION "
   ]
  },
  {
   "cell_type": "markdown",
   "metadata": {},
   "source": [
    "The purpose of this work is analyze the differences between two cities (Ottawa and Paris) using data provided by Foursquare. The problem is the following:\n",
    "\n",
    "Ana is university student from Ottawa, Canada. One day she decided make internship in another country related her academic studies. Since she lived in Ottawa all her life, she is looking for the most similar city to the canadian capital. Also, once found the city she also wants to live in a similar neighborhood where she actually lives. Therefore, Ana need help to solve this problem.There are many features for a correct analysis such as, parks, restaurants, bars and so on. So identify these neighborhood's characteristics we will get a similar town. \n",
    "\n",
    "The importance is widely by the Universities in their masters, internships and other studies  which improved the most comfortability for foreign students.  Therefore, it is advantageous for universities and students in order to search the ideal place to study in other country in terms of homeless and comfort. \n",
    "\n",
    " \n"
   ]
  },
  {
   "cell_type": "markdown",
   "metadata": {},
   "source": [
    "# Data Section \n"
   ]
  },
  {
   "cell_type": "markdown",
   "metadata": {},
   "source": [
    "In order to solve Ana problem, we need consider the following aspects:\n",
    "1. We need collect data about both cities and load to a dataframe in python. (Remember that we will use the foursquare information and libraries learning in the course). This information must include neighborhood names, longitude, latitude and postcode for each neighborhood. \n",
    "2.  Once we got the data, we need prepare it to star the analysis. Here we need delete the empty values according to our knowledge about data set preparation. \n",
    "3. The next step is about the features to consider for the analysis. This step is very important because this features will help us to decide if the city is similar to the Ana's town. \n",
    "4. Make maps is also important. Here we apply segmented and clustered methods to the neighborhoods and features. \n",
    "5. The  final analysis and interpretation of the results is key to make a correct conclusion.\n",
    "\n",
    "Also we will use:\n",
    "\n",
    "Google Geocoder API to find the latitude and longitude of each neighborhood\n",
    "\n",
    "Foursquare API to find the venues within 500 meters of each neighborhood. All of this data will be used to segmenting and clustering, supporting this data with folium and matplotlib visualizations, also using Elbow Method to find the best K for our KMeans Clustering Method.\n"
   ]
  },
  {
   "cell_type": "markdown",
   "metadata": {},
   "source": [
    "\n"
   ]
  }
 ],
 "metadata": {
  "kernelspec": {
   "display_name": "Python",
   "language": "python",
   "name": "conda-env-python-py"
  },
  "language_info": {
   "codemirror_mode": {
    "name": "ipython",
    "version": 3
   },
   "file_extension": ".py",
   "mimetype": "text/x-python",
   "name": "python",
   "nbconvert_exporter": "python",
   "pygments_lexer": "ipython3",
   "version": "3.6.7"
  }
 },
 "nbformat": 4,
 "nbformat_minor": 4
}
