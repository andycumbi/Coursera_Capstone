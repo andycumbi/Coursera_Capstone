{
 "cells": [
  {
   "cell_type": "markdown",
   "metadata": {},
   "source": [
    "# INTRODUCTION "
   ]
  },
  {
   "cell_type": "markdown",
   "metadata": {},
   "source": [
    "The purpose of this work is analyze the differences between two cities (Ottawa and Paris) using data provided by Foursquare. The problem is the following:\n",
    "\n",
    "Ana is university student from Ottawa, Canada. One day she decided make internship in another country related her academic studies. Since she lived in Ottawa all her life, she is looking for the most similar city to the canadian capital. Also, once found the city she also wants to live in a similar neighborhood where she actually lives. Therefore, Ana need help "
   ]
  }
 ],
 "metadata": {
  "kernelspec": {
   "display_name": "Python",
   "language": "python",
   "name": "conda-env-python-py"
  },
  "language_info": {
   "codemirror_mode": {
    "name": "ipython",
    "version": 3
   },
   "file_extension": ".py",
   "mimetype": "text/x-python",
   "name": "python",
   "nbconvert_exporter": "python",
   "pygments_lexer": "ipython3",
   "version": "3.6.7"
  }
 },
 "nbformat": 4,
 "nbformat_minor": 4
}
