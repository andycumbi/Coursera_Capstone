{
 "cells": [
  {
   "cell_type": "markdown",
   "metadata": {},
   "source": [
    "# Methodology "
   ]
  },
  {
   "cell_type": "markdown",
   "metadata": {},
   "source": [
    "In order to solve Ana problem, we need consider the following aspects:\n",
    "1. We need collect data about both cities and load to a dataframe in python. (Remember that we will use the foursquare information and libraries learning in the course). This information must include neighborhood names, longitude, latitude and postcode for each neighborhood. \n",
    "2.  Once we got the data, we need prepare it to star the analysis. Here we need delete the empty values according to our knowledge about data set preparation. \n",
    "3. The next step is about the features to consider for the analysis. This step is very important because this features will help us to decide if the city is similar to the Ana's town. \n",
    "4. Make maps is also important "
   ]
  }
 ],
 "metadata": {
  "kernelspec": {
   "display_name": "Python",
   "language": "python",
   "name": "conda-env-python-py"
  },
  "language_info": {
   "codemirror_mode": {
    "name": "ipython",
    "version": 3
   },
   "file_extension": ".py",
   "mimetype": "text/x-python",
   "name": "python",
   "nbconvert_exporter": "python",
   "pygments_lexer": "ipython3",
   "version": "3.6.7"
  }
 },
 "nbformat": 4,
 "nbformat_minor": 4
}
